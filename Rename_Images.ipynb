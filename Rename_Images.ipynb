{
 "cells": [
  {
   "cell_type": "code",
   "execution_count": 1,
   "metadata": {
    "collapsed": true
   },
   "outputs": [],
   "source": [
    "# Assumes Python 2.7\n",
    "from IPython.display import display, Image\n",
    "import numpy as np\n",
    "from scipy import ndimage\n",
    "import os"
   ]
  },
  {
   "cell_type": "markdown",
   "metadata": {},
   "source": [
    "## Renames a set of images in a folder\n",
    "- Starting at 0\n",
    "- Images automatically labelled consistent with matrix and list zero indexing"
   ]
  },
  {
   "cell_type": "code",
   "execution_count": 8,
   "metadata": {
    "collapsed": true
   },
   "outputs": [],
   "source": [
    "def renameImages(folder):\n",
    "    '''Folder = name of folder containing images. Function renames all images starting from 0.jpg'''\n",
    "    path = os.path.abspath(folder)\n",
    "    print(path)\n",
    "    names = []\n",
    "    for image in os.listdir(path):\n",
    "        if image.startswith(\".\") or image.startswith(\"Icon\"):\n",
    "            pass\n",
    "        else:\n",
    "            names.append(image)\n",
    "    print(names)\n",
    "    prefix = 0\n",
    "    for name in names:\n",
    "        fullname = os.path.join(path, name) \n",
    "        newname = str(prefix) + '.jpg'\n",
    "        fullnewname = os.path.join(path, newname)\n",
    "        print(fullnewname)\n",
    "        os.rename(fullname, fullnewname)\n",
    "        prefix += 1\n",
    "    return"
   ]
  },
  {
   "cell_type": "code",
   "execution_count": null,
   "metadata": {
    "collapsed": true
   },
   "outputs": [],
   "source": [
    "renameImages('SFTestImages')\n",
    "renameImages('SF')"
   ]
  }
 ],
 "metadata": {
  "kernelspec": {
   "display_name": "Python 3",
   "language": "python",
   "name": "python3"
  },
  "language_info": {
   "codemirror_mode": {
    "name": "ipython",
    "version": 3
   },
   "file_extension": ".py",
   "mimetype": "text/x-python",
   "name": "python",
   "nbconvert_exporter": "python",
   "pygments_lexer": "ipython3",
   "version": "3.5.1"
  }
 },
 "nbformat": 4,
 "nbformat_minor": 0
}
