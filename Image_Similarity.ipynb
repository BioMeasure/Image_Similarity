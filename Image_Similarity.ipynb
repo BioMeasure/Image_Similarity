{
 "cells": [
  {
   "cell_type": "code",
   "execution_count": 1,
   "metadata": {
    "collapsed": false
   },
   "outputs": [
    {
     "name": "stdout",
     "output_type": "stream",
     "text": [
      "Once deleted, variables cannot be recovered. Proceed (y/[n])? y\n"
     ]
    }
   ],
   "source": [
    "# Assumes Python 2.7\n",
    "%reset"
   ]
  },
  {
   "cell_type": "code",
   "execution_count": 2,
   "metadata": {
    "collapsed": true
   },
   "outputs": [],
   "source": [
    "from PIL import Image\n",
    "from IPython.display import display\n",
    "import leargist\n",
    "import os\n",
    "import random\n",
    "import numpy as np"
   ]
  },
  {
   "cell_type": "markdown",
   "metadata": {},
   "source": [
    "## Sorting through photographs to identify similar images\n",
    "- Compute gist (Spatial envelope) of each image\n",
    "- Calculate similarilty of two images by computing the 2-norm of the difference between the two gists"
   ]
  },
  {
   "cell_type": "code",
   "execution_count": 4,
   "metadata": {
    "collapsed": true
   },
   "outputs": [],
   "source": [
    "def createSortedListOfImages(num_images):\n",
    "    sortedImages = []\n",
    "    for i in range(num_images):\n",
    "        fullname = str(i) + '.jpg'\n",
    "        sortedImages.append(fullname)\n",
    "    return sortedImages\n",
    "\n",
    "def createGists(sortedImages):\n",
    "    allgists = np.zeros((len(sortedImages),960), dtype='float32')\n",
    "    index = 0\n",
    "    for i in sortedImages:\n",
    "        print index,\n",
    "        im = Image.open(i)\n",
    "        imgist = leargist.color_gist(im)\n",
    "        allgists[index,:] = imgist\n",
    "        index += 1\n",
    "    return allgists\n",
    "\n",
    "def findSimilarImages(num_images, threshhold):\n",
    "    sortedImages = createSortedListOfImages(num_images)\n",
    "    allgists = createGists(sortedImages)\n",
    "    similarImages = []\n",
    "    currlist = []\n",
    "    currindex = 0\n",
    "    for i in range(allgists.shape[0]):\n",
    "        diff = allgists[currindex,:] - allgists[i,:]\n",
    "        norm = np.linalg.norm(diff)\n",
    "        if norm < threshhold:\n",
    "            currlist.append(str(i) + '.jpg')\n",
    "        else:\n",
    "            similarImages.append(currlist)\n",
    "            currindex = i\n",
    "            currlist = []\n",
    "            currlist.append(str(i) + '.jpg')\n",
    "    similarImages.append(currlist)\n",
    "    return similarImages\n",
    "\n",
    "def findUniqueImages(similarImages):\n",
    "    uniqueImages = []\n",
    "    for simims in similarImages:\n",
    "        b = len(simims) - 1\n",
    "        index = random.randint(0, b)\n",
    "        uniqueImages.append(simims[index])\n",
    "    return uniqueImages"
   ]
  },
  {
   "cell_type": "code",
   "execution_count": 5,
   "metadata": {
    "collapsed": false
   },
   "outputs": [
    {
     "name": "stdout",
     "output_type": "stream",
     "text": [
      "0 1 2 3 4 5 6 7 8 9 10 11 12 13 14 15 16 17 18 19 20 21 22 23 24 25 26 27 28 29 30 31 32 33 34 35 36 37 38 39 40 41 42 43 44 45 46 47 48 49 50 51 52 53 54 55 56 57 58 59 60 61 62 63 64 65 66 67 68 69 70 71 72 73 74 75 76 77 78 79 80 81 82 83 84 85 86 87 88 89 90 91 92 93 94 95 96 97 98 99 100 101 102 103 104 105 106 107 108 109 110 111 112 113 114 115 116 117 118 119 120 121 122 123 124 125 126 127 128 129 130 131 132 133 134 135 136 137 138 139 140 141 142 143 144 145 146 147 148 149 150 151 152 153 154 155 156 157 158 159 160 161 162 163 164 165 166 167 168 169 170 171 172 173 174 175 176 177 178 179 180 181 182 183 184 185 186 187 188 189 190 191 192 193 194 195 196 197 198 199 200 201\n"
     ]
    }
   ],
   "source": [
    "similarImages = findSimilarImages(202, 0.45)\n",
    "uniqueImages = findUniqueImages(similarImages)"
   ]
  },
  {
   "cell_type": "code",
   "execution_count": 6,
   "metadata": {
    "collapsed": false
   },
   "outputs": [
    {
     "name": "stdout",
     "output_type": "stream",
     "text": [
      "[['0.jpg', '1.jpg'], ['2.jpg', '3.jpg', '4.jpg', '5.jpg'], ['6.jpg', '7.jpg', '8.jpg'], ['9.jpg'], ['10.jpg'], ['11.jpg'], ['12.jpg', '13.jpg', '14.jpg'], ['15.jpg', '16.jpg', '17.jpg', '18.jpg'], ['19.jpg', '20.jpg', '21.jpg', '22.jpg', '23.jpg', '24.jpg'], ['25.jpg'], ['26.jpg', '27.jpg', '28.jpg', '29.jpg'], ['30.jpg', '31.jpg', '32.jpg'], ['33.jpg', '34.jpg'], ['35.jpg', '36.jpg'], ['37.jpg', '38.jpg', '39.jpg'], ['40.jpg'], ['41.jpg', '42.jpg', '43.jpg', '44.jpg'], ['45.jpg', '46.jpg', '47.jpg', '48.jpg'], ['49.jpg', '50.jpg', '51.jpg'], ['52.jpg'], ['53.jpg', '54.jpg'], ['55.jpg'], ['56.jpg', '57.jpg', '58.jpg', '59.jpg'], ['60.jpg', '61.jpg', '62.jpg', '63.jpg', '64.jpg', '65.jpg', '66.jpg', '67.jpg'], ['68.jpg', '69.jpg', '70.jpg', '71.jpg'], ['72.jpg'], ['73.jpg', '74.jpg'], ['75.jpg'], ['76.jpg'], ['77.jpg'], ['78.jpg'], ['79.jpg', '80.jpg', '81.jpg'], ['82.jpg', '83.jpg'], ['84.jpg', '85.jpg', '86.jpg'], ['87.jpg', '88.jpg'], ['89.jpg', '90.jpg', '91.jpg'], ['92.jpg', '93.jpg', '94.jpg'], ['95.jpg', '96.jpg'], ['97.jpg', '98.jpg'], ['99.jpg', '100.jpg', '101.jpg', '102.jpg', '103.jpg', '104.jpg'], ['105.jpg', '106.jpg'], ['107.jpg', '108.jpg', '109.jpg', '110.jpg'], ['111.jpg', '112.jpg', '113.jpg', '114.jpg', '115.jpg', '116.jpg', '117.jpg', '118.jpg', '119.jpg', '120.jpg', '121.jpg', '122.jpg'], ['123.jpg', '124.jpg', '125.jpg', '126.jpg', '127.jpg'], ['128.jpg', '129.jpg'], ['130.jpg'], ['131.jpg', '132.jpg', '133.jpg', '134.jpg', '135.jpg'], ['136.jpg', '137.jpg'], ['138.jpg', '139.jpg'], ['140.jpg', '141.jpg', '142.jpg', '143.jpg', '144.jpg', '145.jpg'], ['146.jpg', '147.jpg'], ['148.jpg'], ['149.jpg'], ['150.jpg'], ['151.jpg'], ['152.jpg'], ['153.jpg'], ['154.jpg'], ['155.jpg', '156.jpg', '157.jpg', '158.jpg', '159.jpg', '160.jpg', '161.jpg'], ['162.jpg', '163.jpg', '164.jpg'], ['165.jpg'], ['166.jpg'], ['167.jpg'], ['168.jpg'], ['169.jpg', '170.jpg'], ['171.jpg', '172.jpg', '173.jpg', '174.jpg', '175.jpg', '176.jpg'], ['177.jpg'], ['178.jpg'], ['179.jpg', '180.jpg'], ['181.jpg'], ['182.jpg'], ['183.jpg', '184.jpg', '185.jpg', '186.jpg', '187.jpg', '188.jpg'], ['189.jpg', '190.jpg', '191.jpg', '192.jpg'], ['193.jpg'], ['194.jpg'], ['195.jpg', '196.jpg', '197.jpg', '198.jpg', '199.jpg', '200.jpg'], ['201.jpg']]\n",
      "['0.jpg', '5.jpg', '7.jpg', '9.jpg', '10.jpg', '11.jpg', '12.jpg', '18.jpg', '20.jpg', '25.jpg', '28.jpg', '30.jpg', '34.jpg', '35.jpg', '39.jpg', '40.jpg', '43.jpg', '46.jpg', '49.jpg', '52.jpg', '54.jpg', '55.jpg', '58.jpg', '64.jpg', '68.jpg', '72.jpg', '73.jpg', '75.jpg', '76.jpg', '77.jpg', '78.jpg', '81.jpg', '83.jpg', '85.jpg', '87.jpg', '91.jpg', '92.jpg', '96.jpg', '98.jpg', '104.jpg', '105.jpg', '107.jpg', '118.jpg', '126.jpg', '128.jpg', '130.jpg', '133.jpg', '136.jpg', '138.jpg', '145.jpg', '147.jpg', '148.jpg', '149.jpg', '150.jpg', '151.jpg', '152.jpg', '153.jpg', '154.jpg', '155.jpg', '164.jpg', '165.jpg', '166.jpg', '167.jpg', '168.jpg', '169.jpg', '173.jpg', '177.jpg', '178.jpg', '179.jpg', '181.jpg', '182.jpg', '183.jpg', '192.jpg', '193.jpg', '194.jpg', '198.jpg', '201.jpg']\n"
     ]
    }
   ],
   "source": [
    "print similarImages\n",
    "print uniqueImages"
   ]
  },
  {
   "cell_type": "code",
   "execution_count": 7,
   "metadata": {
    "collapsed": false
   },
   "outputs": [
    {
     "data": {
      "text/plain": [
       "77"
      ]
     },
     "execution_count": 7,
     "metadata": {},
     "output_type": "execute_result"
    }
   ],
   "source": [
    "len(uniqueImages)"
   ]
  },
  {
   "cell_type": "markdown",
   "metadata": {},
   "source": [
    "## Testing specific images to decide on threshhold\n",
    "- Threshhold = 2norm of the difference between two image gists. If the 2norm is less than the threshhold, images are similar, above the threshhold images are different"
   ]
  },
  {
   "cell_type": "code",
   "execution_count": 8,
   "metadata": {
    "collapsed": true
   },
   "outputs": [],
   "source": [
    "im1 = Image.open('25.jpg')\n",
    "imgist1 = leargist.color_gist(im1)\n",
    "im2 = Image.open('26.jpg')\n",
    "imgist2 = leargist.color_gist(im2)\n",
    "im3 = Image.open('27.jpg')\n",
    "imgist3 = leargist.color_gist(im3)\n",
    "im4 = Image.open('28.jpg')\n",
    "imgist4 = leargist.color_gist(im4)\n",
    "im5 = Image.open('29.jpg')\n",
    "imgist5 = leargist.color_gist(im5)"
   ]
  },
  {
   "cell_type": "code",
   "execution_count": 9,
   "metadata": {
    "collapsed": true
   },
   "outputs": [],
   "source": [
    "diff1 = imgist1 - imgist2\n",
    "diff2 = imgist1 - imgist3\n",
    "diff3 = imgist1 - imgist4\n",
    "diff4 = imgist1 - imgist5\n",
    "norm1 = np.linalg.norm(diff1)\n",
    "norm2 = np.linalg.norm(diff2)\n",
    "norm3 = np.linalg.norm(diff3)\n",
    "norm4 = np.linalg.norm(diff4)"
   ]
  },
  {
   "cell_type": "code",
   "execution_count": 10,
   "metadata": {
    "collapsed": false
   },
   "outputs": [
    {
     "name": "stdout",
     "output_type": "stream",
     "text": [
      "0.495775 0.843505 0.745853 0.727099\n"
     ]
    }
   ],
   "source": [
    "print norm1, norm2, norm3, norm4"
   ]
  },
  {
   "cell_type": "code",
   "execution_count": 11,
   "metadata": {
    "collapsed": true
   },
   "outputs": [],
   "source": [
    "diff2627 = imgist2 - imgist3\n",
    "norm = np.linalg.norm(diff2627)"
   ]
  },
  {
   "cell_type": "code",
   "execution_count": 12,
   "metadata": {
    "collapsed": false
   },
   "outputs": [
    {
     "name": "stdout",
     "output_type": "stream",
     "text": [
      "0.446727\n"
     ]
    }
   ],
   "source": [
    "print norm"
   ]
  },
  {
   "cell_type": "code",
   "execution_count": 13,
   "metadata": {
    "collapsed": true
   },
   "outputs": [],
   "source": [
    "import pickle"
   ]
  },
  {
   "cell_type": "code",
   "execution_count": 20,
   "metadata": {
    "collapsed": false
   },
   "outputs": [],
   "source": [
    "with open('similarImages.pkl', 'w') as f:\n",
    "    pickle.dump(similarImages, f)\n",
    "with open('uniqueImages.pkl', 'w') as f:\n",
    "    pickle.dump(uniqueImages, f)"
   ]
  },
  {
   "cell_type": "code",
   "execution_count": 24,
   "metadata": {
    "collapsed": false
   },
   "outputs": [],
   "source": [
    "imageList = []\n",
    "index = 0\n",
    "for i in range(202):\n",
    "    name = str(index) +'.jpg'\n",
    "    imageList.append(name)\n",
    "    index += 1"
   ]
  },
  {
   "cell_type": "code",
   "execution_count": 27,
   "metadata": {
    "collapsed": false
   },
   "outputs": [],
   "source": [
    "with open('imageList.pkl', 'w') as f:\n",
    "    pickle.dump(imageList, f)"
   ]
  },
  {
   "cell_type": "code",
   "execution_count": null,
   "metadata": {
    "collapsed": true
   },
   "outputs": [],
   "source": []
  }
 ],
 "metadata": {
  "kernelspec": {
   "display_name": "Python 3",
   "language": "python",
   "name": "python3"
  },
  "language_info": {
   "codemirror_mode": {
    "name": "ipython",
    "version": 3
   },
   "file_extension": ".py",
   "mimetype": "text/x-python",
   "name": "python",
   "nbconvert_exporter": "python",
   "pygments_lexer": "ipython3",
   "version": "3.5.1"
  }
 },
 "nbformat": 4,
 "nbformat_minor": 0
}
