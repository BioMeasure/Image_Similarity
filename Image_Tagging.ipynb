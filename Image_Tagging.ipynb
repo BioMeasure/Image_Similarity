{
 "cells": [
  {
   "cell_type": "code",
   "execution_count": 40,
   "metadata": {
    "collapsed": false
   },
   "outputs": [
    {
     "name": "stdout",
     "output_type": "stream",
     "text": [
      "Once deleted, variables cannot be recovered. Proceed (y/[n])? y\n",
      "env: CLARIFAI_APP_ID=<your_app_id>\n",
      "env: CLARIFAI_APP_SECRET=<your_app_secret>\n"
     ]
    }
   ],
   "source": [
    "# Assumes Python 3\n",
    "%reset\n",
    "%env CLARIFAI_APP_ID=<your_app_id>\n",
    "%env CLARIFAI_APP_SECRET=<your_app_secret>\n",
    "from clarifai.client import ClarifaiApi\n",
    "clarifai_api = ClarifaiApi()\n",
    "import pickle"
   ]
  },
  {
   "cell_type": "markdown",
   "metadata": {},
   "source": [
    "## Testing the Clarifai API"
   ]
  },
  {
   "cell_type": "code",
   "execution_count": 10,
   "metadata": {
    "collapsed": false
   },
   "outputs": [
    {
     "name": "stdout",
     "output_type": "stream",
     "text": [
      "{'meta': {'tag': {'timestamp': 1459691259.984027, 'model': 'general-v1.3', 'config': '34fb1111b4d5f67cf1b8665ebc603704'}}, 'results': [{'local_id': '', 'docid_str': '3f474aeb8c1b66f5fa0b236e6f3fe9b8', 'docid': 84111536371695562421265205679743822264, 'status_code': 'OK', 'result': {'tag': {'probs': [0.9980006217956543, 0.9963641166687012, 0.9853709936141968, 0.982635498046875, 0.9791035652160645, 0.9789987802505493, 0.9670978784561157, 0.9616690278053284, 0.9572854042053223, 0.9568142890930176, 0.9439822435379028, 0.9405438899993896, 0.931157112121582, 0.9169783592224121, 0.9097183346748352, 0.9092828035354614, 0.8955943584442139, 0.886527419090271, 0.8847109079360962, 0.8829927444458008], 'concept_ids': ['ai_TZ3C79C6', 'ai_GjVpxXrs', 'ai_LplXDDZ2', 'ai_WBQfVV0p', 'ai_Xxjc3MhT', 'ai_tr0MBp64', 'ai_n9vjC1jB', 'ai_VRmbGVWh', 'ai_l4WckcJN', 'ai_4250DWCs', 'ai_rsX6XWc2', 'ai_CpFBRWzD', 'ai_WTrlNkqM', 'ai_PJQHT1jg', 'ai_RzrbbnhM', 'ai_ZbGJ3NvW', 'ai_l4rCd5CF', 'ai_786Zr311', 'ai_FwtMR9mk', 'ai_fZNrv7gb'], 'classes': ['road', 'street', 'car', 'city', 'transportation system', 'traffic', 'light', 'travel', 'blur', 'highway', 'building', 'urban', 'vehicle', 'evening', 'guidance', 'bus', 'skyscraper', 'no person', 'motion', 'downtown']}}, 'status_msg': 'OK'}], 'status_code': 'OK', 'status_msg': 'All images in request have completed successfully. '}\n"
     ]
    }
   ],
   "source": [
    "import os\n",
    "path = os.getcwd()\n",
    "index = 0\n",
    "name = str(index) + '.jpg'\n",
    "fullname = os.path.join(path, name)\n",
    "fullname\n",
    "results = clarifai_api.tag_images(open(fullname, 'rb'))\n",
    "print(results)"
   ]
  },
  {
   "cell_type": "code",
   "execution_count": 11,
   "metadata": {
    "collapsed": false
   },
   "outputs": [
    {
     "data": {
      "text/plain": [
       "['road', 'street', 'car', 'city', 'transportation system']"
      ]
     },
     "execution_count": 11,
     "metadata": {},
     "output_type": "execute_result"
    }
   ],
   "source": [
    "results['results'][0]['result']['tag']['classes'][0:5]"
   ]
  },
  {
   "cell_type": "markdown",
   "metadata": {},
   "source": [
    "## Getting image tags\n",
    "- This section request the top 3 tags per image from the Clarifai API and stores the tags per image in a dictionary"
   ]
  },
  {
   "cell_type": "code",
   "execution_count": 12,
   "metadata": {
    "collapsed": false
   },
   "outputs": [],
   "source": [
    "with open('uniqueImages.pkl','rb') as f:\n",
    "    uniqueImages = pickle.load(f)\n",
    "f.close()"
   ]
  },
  {
   "cell_type": "code",
   "execution_count": 13,
   "metadata": {
    "collapsed": false
   },
   "outputs": [
    {
     "data": {
      "text/plain": [
       "77"
      ]
     },
     "execution_count": 13,
     "metadata": {},
     "output_type": "execute_result"
    }
   ],
   "source": [
    "len(uniqueImages)"
   ]
  },
  {
   "cell_type": "code",
   "execution_count": 14,
   "metadata": {
    "collapsed": false
   },
   "outputs": [
    {
     "name": "stdout",
     "output_type": "stream",
     "text": [
      "['0', 'jpg']\n",
      "0\n",
      "0.jpg\n"
     ]
    }
   ],
   "source": [
    "parts = uniqueImages[0].split('.')\n",
    "print(parts)\n",
    "num = int(parts[0])\n",
    "print(num)\n",
    "name = parts[0] + '.jpg'\n",
    "print(name)\n",
    "altname = uniqueImages[0]"
   ]
  },
  {
   "cell_type": "code",
   "execution_count": 15,
   "metadata": {
    "collapsed": false
   },
   "outputs": [
    {
     "name": "stdout",
     "output_type": "stream",
     "text": [
      "05791011121820252830343539404346495254555864687273757677788183858791929698104105107118126128130133136138145147148149150151152153154155164165166167168169173177178179181182183192193194198201{0: ['road', 'street', 'car'], 128: ['water', 'bridge', 'ocean'], 130: ['bridge', 'water', 'people'], 201: ['water', 'no person', 'city'], 5: ['architecture', 'house', 'building'], 7: ['architecture', 'building', 'street'], 136: ['water', 'sea', 'beach'], 9: ['city', 'street', 'road'], 10: ['street', 'city', 'road'], 11: ['business', 'city', 'people'], 12: ['water', 'bridge', 'no person'], 145: ['water', 'bridge', 'sea'], 18: ['people', 'city', 'protest'], 147: ['tree', 'landscape', 'no person'], 20: ['man', 'sunglasses', 'people'], 149: ['people', 'man', 'adult'], 150: ['water', 'travel', 'bridge'], 151: ['bridge', 'travel', 'no person'], 152: ['bridge', 'travel', 'sky'], 25: ['sea', 'water', 'beach'], 154: ['people', 'group', 'man'], 155: ['transportation system', 'bridge', 'travel'], 28: ['water', 'sea', 'travel'], 167: ['railway', 'train', 'train'], 30: ['street', 'city', 'road'], 133: ['water', 'beach', 'people'], 34: ['water', 'no person', 'travel'], 35: ['no person', 'travel', 'outdoors'], 164: ['water', 'sea', 'landscape'], 165: ['car', 'road', 'vehicle'], 166: ['street', 'people', 'city'], 39: ['water', 'no person', 'harbor'], 40: ['water', 'no person', 'pier'], 169: ['street', 'city', 'road'], 43: ['water', 'city', 'no person'], 173: ['competition', 'bar', 'man'], 46: ['people', 'flower', 'adult'], 49: ['flower', 'people', 'woman'], 178: ['road', 'street', 'traffic'], 179: ['road', 'street', 'car'], 52: ['people', 'competition', 'man'], 181: ['street', 'road', 'light'], 54: ['water', 'watercraft', 'sea'], 55: ['water', 'leisure', 'outdoors'], 58: ['water', 'travel', 'outdoors'], 138: ['water', 'recreation', 'travel'], 64: ['people', 'woman', 'portrait'], 193: ['street', 'city', 'building'], 194: ['no person', 'architecture', 'travel'], 68: ['protest', 'people', 'rally'], 182: ['man', 'competition', 'beer'], 198: ['no person', 'architecture', 'travel'], 72: ['transportation system', 'military', 'ship'], 73: ['vehicle', 'people', 'road'], 75: ['street', 'road', 'vehicle'], 76: ['road', 'street', 'vehicle'], 77: ['street', 'road', 'city'], 78: ['street', 'road', 'city'], 81: ['no person', 'tree', 'landscape'], 83: ['water', 'no person', 'travel'], 85: ['water', 'people', 'recreation'], 87: ['travel', 'water', 'leisure'], 91: ['beach', 'water', 'no person'], 92: ['no person', 'travel', 'tree'], 96: ['tree', 'no person', 'landscape'], 98: ['street', 'competition', 'road'], 104: ['water', 'no person', 'travel'], 105: ['landscape', 'agriculture', 'no person'], 107: ['no person', 'tree', 'house'], 177: ['blur', 'abstract', 'motion'], 168: ['city', 'street', 'travel'], 118: ['people', 'landscape', 'grass'], 153: ['water', 'sea', 'beach'], 148: ['sunset', 'dawn', 'landscape'], 192: ['flower', 'tree', 'garden'], 183: ['tree', 'park', 'no person'], 126: ['landscape', 'tree', 'park']}\n",
      "['sky', 'agriculture', 'business', 'motion', 'grass', 'beach', 'flower', 'pier', 'man', 'people', 'train', 'car', 'tree', 'ocean', 'railway', 'light', 'street', 'architecture', 'beer', 'group', 'house', 'abstract', 'transportation system', 'vehicle', 'military', 'sunset', 'recreation', 'landscape', 'water', 'travel', 'adult', 'no person', 'sea', 'ship', 'watercraft', 'garden', 'bridge', 'protest', 'outdoors', 'city', 'sunglasses', 'woman', 'dawn', 'blur', 'rally', 'leisure', 'harbor', 'bar', 'competition', 'park', 'road', 'portrait', 'traffic', 'building']\n"
     ]
    }
   ],
   "source": [
    "imTagDict = {}\n",
    "uniqueTags = []\n",
    "for name in uniqueImages:\n",
    "    fullname = os.path.join(path, name)\n",
    "    index = int(name.split('.')[0])\n",
    "    print(index, end=\"\")\n",
    "    results = clarifai_api.tag_images(open(fullname, 'rb'))\n",
    "    tags = results['results'][0]['result']['tag']['classes'][0:3]\n",
    "    for tag in tags:\n",
    "        uniqueTags.append(tag)\n",
    "    uniqueTags = set(uniqueTags)\n",
    "    uniqueTags = list(uniqueTags)\n",
    "    imTagDict[index] = tags\n",
    "print(imTagDict)\n",
    "print(uniqueTags)"
   ]
  },
  {
   "cell_type": "code",
   "execution_count": 16,
   "metadata": {
    "collapsed": false
   },
   "outputs": [
    {
     "data": {
      "text/plain": [
       "54"
      ]
     },
     "execution_count": 16,
     "metadata": {},
     "output_type": "execute_result"
    }
   ],
   "source": [
    "len(uniqueTags)"
   ]
  },
  {
   "cell_type": "markdown",
   "metadata": {},
   "source": [
    "## Identifying top tags\n",
    "- This sections finds the top 15 tags and creates a list of images with each tag "
   ]
  },
  {
   "cell_type": "code",
   "execution_count": 17,
   "metadata": {
    "collapsed": false
   },
   "outputs": [
    {
     "name": "stdout",
     "output_type": "stream",
     "text": [
      "[1, 1, 1, 1, 1, 5, 3, 1, 6, 16, 2, 3, 8, 1, 1, 1, 17, 4, 1, 1, 2, 1, 2, 4, 1, 1, 2, 8, 25, 16, 2, 20, 7, 1, 1, 1, 8, 2, 3, 13, 1, 2, 1, 1, 1, 2, 1, 1, 4, 2, 15, 1, 1, 3]\n"
     ]
    }
   ],
   "source": [
    "tagCount = []\n",
    "for i in range(len(uniqueTags)):\n",
    "    tagCount.append(0)\n",
    "counter = 0\n",
    "for i in range(len(uniqueTags)):\n",
    "    if counter >= 205:\n",
    "        break\n",
    "    else:\n",
    "        tag = uniqueTags[i]\n",
    "        counter +=1\n",
    "        #print(tag)\n",
    "        for im in imTagDict:\n",
    "            mylist = imTagDict[im]\n",
    "            if im % 10 == 0:\n",
    "                #print(mylist)\n",
    "                pass\n",
    "            for imtag in mylist: \n",
    "                if imtag == tag and im % 10 == 0:\n",
    "                    #print(imtag)\n",
    "                    pass\n",
    "                if imtag == tag:\n",
    "                    tagCount[i] += 1                \n",
    "print(tagCount)"
   ]
  },
  {
   "cell_type": "code",
   "execution_count": 18,
   "metadata": {
    "collapsed": false
   },
   "outputs": [],
   "source": [
    "class Tag:\n",
    "    def __init__(self, name, number):\n",
    "        self.name = name\n",
    "        self.number = number"
   ]
  },
  {
   "cell_type": "code",
   "execution_count": 19,
   "metadata": {
    "collapsed": false
   },
   "outputs": [
    {
     "data": {
      "text/plain": [
       "54"
      ]
     },
     "execution_count": 19,
     "metadata": {},
     "output_type": "execute_result"
    }
   ],
   "source": [
    "finalTagList = []\n",
    "for i in range(len(uniqueTags)):\n",
    "    name = uniqueTags[i]\n",
    "    number = tagCount[i]\n",
    "    myTag = Tag(name, number)\n",
    "    finalTagList.append(myTag)\n",
    "len(finalTagList)"
   ]
  },
  {
   "cell_type": "code",
   "execution_count": 20,
   "metadata": {
    "collapsed": false
   },
   "outputs": [],
   "source": [
    "sortedTagList = sorted(finalTagList, key=lambda x: x.number, reverse=True)"
   ]
  },
  {
   "cell_type": "code",
   "execution_count": 21,
   "metadata": {
    "collapsed": false
   },
   "outputs": [
    {
     "name": "stdout",
     "output_type": "stream",
     "text": [
      "water 25\n",
      "no person 20\n",
      "street 17\n",
      "people 16\n",
      "travel 16\n",
      "road 15\n",
      "city 13\n",
      "tree 8\n",
      "landscape 8\n",
      "bridge 8\n",
      "sea 7\n",
      "man 6\n",
      "beach 5\n",
      "architecture 4\n",
      "vehicle 4\n"
     ]
    }
   ],
   "source": [
    "print(sortedTagList[0].name, sortedTagList[0].number)\n",
    "print(sortedTagList[1].name, sortedTagList[1].number)\n",
    "print(sortedTagList[2].name, sortedTagList[2].number)\n",
    "print(sortedTagList[3].name, sortedTagList[3].number)\n",
    "print(sortedTagList[4].name, sortedTagList[4].number)\n",
    "print(sortedTagList[5].name, sortedTagList[5].number)\n",
    "print(sortedTagList[6].name, sortedTagList[6].number)\n",
    "print(sortedTagList[7].name, sortedTagList[7].number)\n",
    "print(sortedTagList[8].name, sortedTagList[8].number)\n",
    "print(sortedTagList[9].name, sortedTagList[9].number)\n",
    "print(sortedTagList[10].name, sortedTagList[10].number)\n",
    "print(sortedTagList[11].name, sortedTagList[11].number)\n",
    "print(sortedTagList[12].name, sortedTagList[12].number)\n",
    "print(sortedTagList[13].name, sortedTagList[13].number)\n",
    "print(sortedTagList[14].name, sortedTagList[14].number)"
   ]
  },
  {
   "cell_type": "code",
   "execution_count": 22,
   "metadata": {
    "collapsed": false
   },
   "outputs": [],
   "source": [
    "finalTagList = []\n",
    "for i in range(15):\n",
    "    tag = []\n",
    "    tag.append(sortedTagList[i].name)\n",
    "    finalTagList.append(tag)"
   ]
  },
  {
   "cell_type": "code",
   "execution_count": 23,
   "metadata": {
    "collapsed": false
   },
   "outputs": [
    {
     "data": {
      "text/plain": [
       "[['water'],\n",
       " ['no person'],\n",
       " ['street'],\n",
       " ['people'],\n",
       " ['travel'],\n",
       " ['road'],\n",
       " ['city'],\n",
       " ['tree'],\n",
       " ['landscape'],\n",
       " ['bridge'],\n",
       " ['sea'],\n",
       " ['man'],\n",
       " ['beach'],\n",
       " ['architecture'],\n",
       " ['vehicle']]"
      ]
     },
     "execution_count": 23,
     "metadata": {},
     "output_type": "execute_result"
    }
   ],
   "source": [
    "finalTagList"
   ]
  },
  {
   "cell_type": "code",
   "execution_count": 24,
   "metadata": {
    "collapsed": false
   },
   "outputs": [
    {
     "name": "stdout",
     "output_type": "stream",
     "text": [
      "26\n",
      "21\n",
      "18\n",
      "17\n",
      "17\n",
      "16\n",
      "14\n",
      "9\n",
      "9\n",
      "9\n",
      "8\n",
      "7\n",
      "6\n",
      "5\n",
      "5\n"
     ]
    }
   ],
   "source": [
    "for i in range(len(finalTagList)):\n",
    "    name = finalTagList[i][0]\n",
    "    for im in imTagDict:\n",
    "        myList = imTagDict[im]\n",
    "        for imTag in myList:\n",
    "            if name == imTag:\n",
    "                finalTagList[i].append(str(im) + '.jpg')\n",
    "for i in range(len(finalTagList)):\n",
    "    print(len(finalTagList[i]))"
   ]
  },
  {
   "cell_type": "markdown",
   "metadata": {},
   "source": [
    "## Testing image tagging\n",
    "- This section displays images from selected lists to check that tags are correct"
   ]
  },
  {
   "cell_type": "code",
   "execution_count": 25,
   "metadata": {
    "collapsed": false
   },
   "outputs": [],
   "source": [
    "from IPython.display import display, Image"
   ]
  },
  {
   "cell_type": "code",
   "execution_count": 26,
   "metadata": {
    "collapsed": false
   },
   "outputs": [
    {
     "name": "stdout",
     "output_type": "stream",
     "text": [
      "['travel', '150.jpg', '151.jpg', '152.jpg', '155.jpg', '28.jpg', '34.jpg', '35.jpg', '58.jpg', '138.jpg', '194.jpg', '198.jpg', '83.jpg', '87.jpg', '92.jpg', '104.jpg', '168.jpg']\n",
      "155.jpg\n",
      "17\n"
     ]
    }
   ],
   "source": [
    "testTag = finalTagList[4]\n",
    "print(testTag)\n",
    "print(testTag[4])\n",
    "print(len(testTag))\n",
    "\n",
    "for i in range(len(testTag)):\n",
    "    if i==0:\n",
    "        pass\n",
    "    else:\n",
    "        im = Image(filename=testTag[i])\n",
    "        #display(im)"
   ]
  },
  {
   "cell_type": "code",
   "execution_count": 27,
   "metadata": {
    "collapsed": false
   },
   "outputs": [
    {
     "data": {
      "text/plain": [
       "['transportation system', 'bridge', 'travel', 'people', 'no person']"
      ]
     },
     "execution_count": 27,
     "metadata": {},
     "output_type": "execute_result"
    }
   ],
   "source": [
    "index = 155\n",
    "name = str(index) + '.jpg'\n",
    "fullname = os.path.join(path, name)\n",
    "test = clarifai_api.tag_images(open(fullname, 'rb'))\n",
    "test['results'][0]['result']['tag']['classes'][0:5]"
   ]
  },
  {
   "cell_type": "code",
   "execution_count": 28,
   "metadata": {
    "collapsed": false
   },
   "outputs": [
    {
     "name": "stdout",
     "output_type": "stream",
     "text": [
      "['water', '128.jpg', '130.jpg', '201.jpg', '136.jpg', '12.jpg', '145.jpg', '150.jpg', '25.jpg', '28.jpg', '133.jpg', '34.jpg', '164.jpg', '39.jpg', '40.jpg', '43.jpg', '54.jpg', '55.jpg', '58.jpg', '138.jpg', '83.jpg', '85.jpg', '87.jpg', '91.jpg', '104.jpg', '153.jpg']\n",
      "water\n",
      "26\n"
     ]
    }
   ],
   "source": [
    "testTag = finalTagList[0]\n",
    "print(testTag)\n",
    "print(testTag[0])\n",
    "print(len(testTag))\n",
    "\n",
    "for i in range(len(testTag)):\n",
    "    if i==0:\n",
    "        pass\n",
    "    else:\n",
    "        im = Image(filename=testTag[i])\n",
    "        #display(im)"
   ]
  },
  {
   "cell_type": "code",
   "execution_count": 29,
   "metadata": {
    "collapsed": false
   },
   "outputs": [
    {
     "name": "stdout",
     "output_type": "stream",
     "text": [
      "['road', '0.jpg', '9.jpg', '10.jpg', '30.jpg', '165.jpg', '169.jpg', '178.jpg', '179.jpg', '181.jpg', '73.jpg', '75.jpg', '76.jpg', '77.jpg', '78.jpg', '98.jpg']\n",
      "165.jpg\n",
      "16\n"
     ]
    }
   ],
   "source": [
    "testTag = finalTagList[5]\n",
    "print(testTag)\n",
    "print(testTag[5])\n",
    "print(len(testTag))\n",
    "\n",
    "for i in range(len(testTag)):\n",
    "    if i==0:\n",
    "        pass\n",
    "    else:\n",
    "        im = Image(filename=testTag[i])\n",
    "        #display(im)"
   ]
  },
  {
   "cell_type": "code",
   "execution_count": 30,
   "metadata": {
    "collapsed": false
   },
   "outputs": [
    {
     "name": "stdout",
     "output_type": "stream",
     "text": [
      "['tree', '147.jpg', '81.jpg', '92.jpg', '96.jpg', '107.jpg', '192.jpg', '183.jpg', '126.jpg']\n",
      "183.jpg\n",
      "9\n"
     ]
    }
   ],
   "source": [
    "testTag = finalTagList[7]\n",
    "print(testTag)\n",
    "print(testTag[7])\n",
    "print(len(testTag))\n",
    "\n",
    "for i in range(len(testTag)):\n",
    "    if i==0:\n",
    "        pass\n",
    "    else:\n",
    "        im = Image(filename=testTag[i])\n",
    "        #display(im)"
   ]
  },
  {
   "cell_type": "code",
   "execution_count": 31,
   "metadata": {
    "collapsed": false
   },
   "outputs": [
    {
     "name": "stdout",
     "output_type": "stream",
     "text": [
      "['landscape', '147.jpg', '164.jpg', '81.jpg', '96.jpg', '105.jpg', '118.jpg', '148.jpg', '126.jpg']\n",
      "126.jpg\n",
      "9\n"
     ]
    }
   ],
   "source": [
    "testTag = finalTagList[8]\n",
    "print(testTag)\n",
    "print(testTag[8])\n",
    "print(len(testTag))\n",
    "\n",
    "for i in range(len(testTag)):\n",
    "    if i==0:\n",
    "        pass\n",
    "    else:\n",
    "        im = Image(filename=testTag[i])\n",
    "        #display(im)"
   ]
  },
  {
   "cell_type": "code",
   "execution_count": 32,
   "metadata": {
    "collapsed": false
   },
   "outputs": [
    {
     "name": "stdout",
     "output_type": "stream",
     "text": [
      "['bridge', '128.jpg', '130.jpg', '12.jpg', '145.jpg', '150.jpg', '151.jpg', '152.jpg', '155.jpg']\n",
      "9\n"
     ]
    }
   ],
   "source": [
    "testTag = finalTagList[9]\n",
    "print(testTag)\n",
    "print(len(testTag))\n",
    "\n",
    "for i in range(len(testTag)):\n",
    "    if i==0:\n",
    "        pass\n",
    "    else:\n",
    "        im = Image(filename=testTag[i])\n",
    "        #display(im)"
   ]
  },
  {
   "cell_type": "code",
   "execution_count": 33,
   "metadata": {
    "collapsed": false
   },
   "outputs": [
    {
     "data": {
      "text/plain": [
       "[['water',\n",
       "  '128.jpg',\n",
       "  '130.jpg',\n",
       "  '201.jpg',\n",
       "  '136.jpg',\n",
       "  '12.jpg',\n",
       "  '145.jpg',\n",
       "  '150.jpg',\n",
       "  '25.jpg',\n",
       "  '28.jpg',\n",
       "  '133.jpg',\n",
       "  '34.jpg',\n",
       "  '164.jpg',\n",
       "  '39.jpg',\n",
       "  '40.jpg',\n",
       "  '43.jpg',\n",
       "  '54.jpg',\n",
       "  '55.jpg',\n",
       "  '58.jpg',\n",
       "  '138.jpg',\n",
       "  '83.jpg',\n",
       "  '85.jpg',\n",
       "  '87.jpg',\n",
       "  '91.jpg',\n",
       "  '104.jpg',\n",
       "  '153.jpg'],\n",
       " ['no person',\n",
       "  '201.jpg',\n",
       "  '12.jpg',\n",
       "  '147.jpg',\n",
       "  '151.jpg',\n",
       "  '34.jpg',\n",
       "  '35.jpg',\n",
       "  '39.jpg',\n",
       "  '40.jpg',\n",
       "  '43.jpg',\n",
       "  '194.jpg',\n",
       "  '198.jpg',\n",
       "  '81.jpg',\n",
       "  '83.jpg',\n",
       "  '91.jpg',\n",
       "  '92.jpg',\n",
       "  '96.jpg',\n",
       "  '104.jpg',\n",
       "  '105.jpg',\n",
       "  '107.jpg',\n",
       "  '183.jpg'],\n",
       " ['street',\n",
       "  '0.jpg',\n",
       "  '7.jpg',\n",
       "  '9.jpg',\n",
       "  '10.jpg',\n",
       "  '30.jpg',\n",
       "  '166.jpg',\n",
       "  '169.jpg',\n",
       "  '178.jpg',\n",
       "  '179.jpg',\n",
       "  '181.jpg',\n",
       "  '193.jpg',\n",
       "  '75.jpg',\n",
       "  '76.jpg',\n",
       "  '77.jpg',\n",
       "  '78.jpg',\n",
       "  '98.jpg',\n",
       "  '168.jpg'],\n",
       " ['people',\n",
       "  '130.jpg',\n",
       "  '11.jpg',\n",
       "  '18.jpg',\n",
       "  '20.jpg',\n",
       "  '149.jpg',\n",
       "  '154.jpg',\n",
       "  '133.jpg',\n",
       "  '166.jpg',\n",
       "  '46.jpg',\n",
       "  '49.jpg',\n",
       "  '52.jpg',\n",
       "  '64.jpg',\n",
       "  '68.jpg',\n",
       "  '73.jpg',\n",
       "  '85.jpg',\n",
       "  '118.jpg'],\n",
       " ['travel',\n",
       "  '150.jpg',\n",
       "  '151.jpg',\n",
       "  '152.jpg',\n",
       "  '155.jpg',\n",
       "  '28.jpg',\n",
       "  '34.jpg',\n",
       "  '35.jpg',\n",
       "  '58.jpg',\n",
       "  '138.jpg',\n",
       "  '194.jpg',\n",
       "  '198.jpg',\n",
       "  '83.jpg',\n",
       "  '87.jpg',\n",
       "  '92.jpg',\n",
       "  '104.jpg',\n",
       "  '168.jpg'],\n",
       " ['road',\n",
       "  '0.jpg',\n",
       "  '9.jpg',\n",
       "  '10.jpg',\n",
       "  '30.jpg',\n",
       "  '165.jpg',\n",
       "  '169.jpg',\n",
       "  '178.jpg',\n",
       "  '179.jpg',\n",
       "  '181.jpg',\n",
       "  '73.jpg',\n",
       "  '75.jpg',\n",
       "  '76.jpg',\n",
       "  '77.jpg',\n",
       "  '78.jpg',\n",
       "  '98.jpg'],\n",
       " ['city',\n",
       "  '201.jpg',\n",
       "  '9.jpg',\n",
       "  '10.jpg',\n",
       "  '11.jpg',\n",
       "  '18.jpg',\n",
       "  '30.jpg',\n",
       "  '166.jpg',\n",
       "  '169.jpg',\n",
       "  '43.jpg',\n",
       "  '193.jpg',\n",
       "  '77.jpg',\n",
       "  '78.jpg',\n",
       "  '168.jpg'],\n",
       " ['tree',\n",
       "  '147.jpg',\n",
       "  '81.jpg',\n",
       "  '92.jpg',\n",
       "  '96.jpg',\n",
       "  '107.jpg',\n",
       "  '192.jpg',\n",
       "  '183.jpg',\n",
       "  '126.jpg'],\n",
       " ['landscape',\n",
       "  '147.jpg',\n",
       "  '164.jpg',\n",
       "  '81.jpg',\n",
       "  '96.jpg',\n",
       "  '105.jpg',\n",
       "  '118.jpg',\n",
       "  '148.jpg',\n",
       "  '126.jpg'],\n",
       " ['bridge',\n",
       "  '128.jpg',\n",
       "  '130.jpg',\n",
       "  '12.jpg',\n",
       "  '145.jpg',\n",
       "  '150.jpg',\n",
       "  '151.jpg',\n",
       "  '152.jpg',\n",
       "  '155.jpg'],\n",
       " ['sea',\n",
       "  '136.jpg',\n",
       "  '145.jpg',\n",
       "  '25.jpg',\n",
       "  '28.jpg',\n",
       "  '164.jpg',\n",
       "  '54.jpg',\n",
       "  '153.jpg'],\n",
       " ['man', '20.jpg', '149.jpg', '154.jpg', '173.jpg', '52.jpg', '182.jpg'],\n",
       " ['beach', '136.jpg', '25.jpg', '133.jpg', '91.jpg', '153.jpg'],\n",
       " ['architecture', '5.jpg', '7.jpg', '194.jpg', '198.jpg'],\n",
       " ['vehicle', '165.jpg', '73.jpg', '75.jpg', '76.jpg']]"
      ]
     },
     "execution_count": 33,
     "metadata": {},
     "output_type": "execute_result"
    }
   ],
   "source": [
    "finalTagList"
   ]
  },
  {
   "cell_type": "code",
   "execution_count": 34,
   "metadata": {
    "collapsed": false
   },
   "outputs": [
    {
     "data": {
      "text/plain": [
       "[['water',\n",
       "  '128.jpg',\n",
       "  '130.jpg',\n",
       "  '201.jpg',\n",
       "  '136.jpg',\n",
       "  '12.jpg',\n",
       "  '145.jpg',\n",
       "  '150.jpg',\n",
       "  '25.jpg',\n",
       "  '28.jpg',\n",
       "  '133.jpg',\n",
       "  '34.jpg',\n",
       "  '164.jpg',\n",
       "  '39.jpg',\n",
       "  '40.jpg',\n",
       "  '43.jpg',\n",
       "  '54.jpg',\n",
       "  '55.jpg',\n",
       "  '58.jpg',\n",
       "  '138.jpg',\n",
       "  '83.jpg',\n",
       "  '85.jpg',\n",
       "  '87.jpg',\n",
       "  '91.jpg',\n",
       "  '104.jpg',\n",
       "  '153.jpg'],\n",
       " ['no person',\n",
       "  '201.jpg',\n",
       "  '12.jpg',\n",
       "  '147.jpg',\n",
       "  '151.jpg',\n",
       "  '34.jpg',\n",
       "  '35.jpg',\n",
       "  '39.jpg',\n",
       "  '40.jpg',\n",
       "  '43.jpg',\n",
       "  '194.jpg',\n",
       "  '198.jpg',\n",
       "  '81.jpg',\n",
       "  '83.jpg',\n",
       "  '91.jpg',\n",
       "  '92.jpg',\n",
       "  '96.jpg',\n",
       "  '104.jpg',\n",
       "  '105.jpg',\n",
       "  '107.jpg',\n",
       "  '183.jpg'],\n",
       " ['street',\n",
       "  '0.jpg',\n",
       "  '7.jpg',\n",
       "  '9.jpg',\n",
       "  '10.jpg',\n",
       "  '30.jpg',\n",
       "  '166.jpg',\n",
       "  '169.jpg',\n",
       "  '178.jpg',\n",
       "  '179.jpg',\n",
       "  '181.jpg',\n",
       "  '193.jpg',\n",
       "  '75.jpg',\n",
       "  '76.jpg',\n",
       "  '77.jpg',\n",
       "  '78.jpg',\n",
       "  '98.jpg',\n",
       "  '168.jpg'],\n",
       " ['people',\n",
       "  '130.jpg',\n",
       "  '11.jpg',\n",
       "  '18.jpg',\n",
       "  '20.jpg',\n",
       "  '149.jpg',\n",
       "  '154.jpg',\n",
       "  '133.jpg',\n",
       "  '166.jpg',\n",
       "  '46.jpg',\n",
       "  '49.jpg',\n",
       "  '52.jpg',\n",
       "  '64.jpg',\n",
       "  '68.jpg',\n",
       "  '73.jpg',\n",
       "  '85.jpg',\n",
       "  '118.jpg'],\n",
       " ['travel',\n",
       "  '150.jpg',\n",
       "  '151.jpg',\n",
       "  '152.jpg',\n",
       "  '155.jpg',\n",
       "  '28.jpg',\n",
       "  '34.jpg',\n",
       "  '35.jpg',\n",
       "  '58.jpg',\n",
       "  '138.jpg',\n",
       "  '194.jpg',\n",
       "  '198.jpg',\n",
       "  '83.jpg',\n",
       "  '87.jpg',\n",
       "  '92.jpg',\n",
       "  '104.jpg',\n",
       "  '168.jpg'],\n",
       " ['road',\n",
       "  '0.jpg',\n",
       "  '9.jpg',\n",
       "  '10.jpg',\n",
       "  '30.jpg',\n",
       "  '165.jpg',\n",
       "  '169.jpg',\n",
       "  '178.jpg',\n",
       "  '179.jpg',\n",
       "  '181.jpg',\n",
       "  '73.jpg',\n",
       "  '75.jpg',\n",
       "  '76.jpg',\n",
       "  '77.jpg',\n",
       "  '78.jpg',\n",
       "  '98.jpg'],\n",
       " ['city',\n",
       "  '201.jpg',\n",
       "  '9.jpg',\n",
       "  '10.jpg',\n",
       "  '11.jpg',\n",
       "  '18.jpg',\n",
       "  '30.jpg',\n",
       "  '166.jpg',\n",
       "  '169.jpg',\n",
       "  '43.jpg',\n",
       "  '193.jpg',\n",
       "  '77.jpg',\n",
       "  '78.jpg',\n",
       "  '168.jpg'],\n",
       " ['tree',\n",
       "  '147.jpg',\n",
       "  '81.jpg',\n",
       "  '92.jpg',\n",
       "  '96.jpg',\n",
       "  '107.jpg',\n",
       "  '192.jpg',\n",
       "  '183.jpg',\n",
       "  '126.jpg'],\n",
       " ['landscape',\n",
       "  '147.jpg',\n",
       "  '164.jpg',\n",
       "  '81.jpg',\n",
       "  '96.jpg',\n",
       "  '105.jpg',\n",
       "  '118.jpg',\n",
       "  '148.jpg',\n",
       "  '126.jpg'],\n",
       " ['man', '20.jpg', '149.jpg', '154.jpg', '173.jpg', '52.jpg', '182.jpg'],\n",
       " ['vehicle', '165.jpg', '73.jpg', '75.jpg', '76.jpg']]"
      ]
     },
     "execution_count": 34,
     "metadata": {},
     "output_type": "execute_result"
    }
   ],
   "source": [
    "finalTagList2 = finalTagList[0:9]\n",
    "finalTagList2.append(list(finalTagList[11]))\n",
    "finalTagList2.append(list(finalTagList[14]))\n",
    "finalTagList2"
   ]
  },
  {
   "cell_type": "code",
   "execution_count": 35,
   "metadata": {
    "collapsed": false
   },
   "outputs": [
    {
     "name": "stdout",
     "output_type": "stream",
     "text": [
      "<class 'list'>\n"
     ]
    }
   ],
   "source": [
    "len(finalTagList2)\n",
    "print(type(finalTagList2))"
   ]
  },
  {
   "cell_type": "code",
   "execution_count": 36,
   "metadata": {
    "collapsed": false
   },
   "outputs": [],
   "source": [
    "fname = open('taggedImageLists.pkl', 'wb')\n",
    "pickle.dump(finalTagList2, fname)\n",
    "fname.close()"
   ]
  }
 ],
 "metadata": {
  "kernelspec": {
   "display_name": "Python 3",
   "language": "python",
   "name": "python3"
  },
  "language_info": {
   "codemirror_mode": {
    "name": "ipython",
    "version": 3
   },
   "file_extension": ".py",
   "mimetype": "text/x-python",
   "name": "python",
   "nbconvert_exporter": "python",
   "pygments_lexer": "ipython3",
   "version": "3.5.1"
  }
 },
 "nbformat": 4,
 "nbformat_minor": 0
}
